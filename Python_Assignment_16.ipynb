{
 "cells": [
  {
   "cell_type": "markdown",
   "id": "584fd18a",
   "metadata": {},
   "source": [
    "Q-1 Create a list call years_list, starting with the year of your birth,  and each year thereafter until the year\n",
    " of your fourth birthday. For example, if you werw born in 1980, the list would be years_list = [1980,1981,1982,1983,1984,1985]"
   ]
  },
  {
   "cell_type": "code",
   "execution_count": 9,
   "id": "3b76f3c7",
   "metadata": {},
   "outputs": [
    {
     "name": "stdout",
     "output_type": "stream",
     "text": [
      "[1994, 1995, 1996, 1997, 1998]\n"
     ]
    }
   ],
   "source": [
    "years_list = [i for i in range (1994,1994+5)]\n",
    "print(years_list )"
   ]
  },
  {
   "cell_type": "markdown",
   "id": "744dc29b",
   "metadata": {},
   "source": [
    "Q -2 In which years in years_list was your third birthday? Remember, you were 0 years of age for your first year."
   ]
  },
  {
   "cell_type": "code",
   "execution_count": 13,
   "id": "adaa6a72",
   "metadata": {},
   "outputs": [
    {
     "data": {
      "text/plain": [
       "1994"
      ]
     },
     "execution_count": 13,
     "metadata": {},
     "output_type": "execute_result"
    }
   ],
   "source": [
    "years_list[0]"
   ]
  },
  {
   "cell_type": "markdown",
   "id": "e842b62c",
   "metadata": {},
   "source": [
    " Q - 3 In this yers_list, which year were you oldest?"
   ]
  },
  {
   "cell_type": "code",
   "execution_count": 16,
   "id": "d0ff302a",
   "metadata": {},
   "outputs": [
    {
     "data": {
      "text/plain": [
       "1998"
      ]
     },
     "execution_count": 16,
     "metadata": {},
     "output_type": "execute_result"
    }
   ],
   "source": [
    "max(years_list)"
   ]
  },
  {
   "cell_type": "markdown",
   "id": "7f67b38e",
   "metadata": {},
   "source": [
    "Q -4 Make a list called things with these three strings as element:  &quot;mozzarella&quot;, &quot;cinderella&quot;,\n",
    "&quot;salmonella&quot;."
   ]
  },
  {
   "cell_type": "code",
   "execution_count": 18,
   "id": "5dab6454",
   "metadata": {},
   "outputs": [
    {
     "data": {
      "text/plain": [
       "['mozzarella', 'cinderella', 'salmonella']"
      ]
     },
     "execution_count": 18,
     "metadata": {},
     "output_type": "execute_result"
    }
   ],
   "source": [
    "things = ['mozzarella', 'cinderella', 'salmonella']\n",
    "things"
   ]
  },
  {
   "cell_type": "markdown",
   "id": "ffc47047",
   "metadata": {},
   "source": [
    "Q -5 Capitalize the element in things that refers to a person and then print the list. Did it change the element in the list?"
   ]
  },
  {
   "cell_type": "code",
   "execution_count": 19,
   "id": "d4b11db2",
   "metadata": {},
   "outputs": [
    {
     "name": "stdout",
     "output_type": "stream",
     "text": [
      "Mozzarella\n",
      "Cinderella\n",
      "Salmonella\n"
     ]
    },
    {
     "data": {
      "text/plain": [
       "['mozzarella', 'cinderella', 'salmonella']"
      ]
     },
     "execution_count": 19,
     "metadata": {},
     "output_type": "execute_result"
    }
   ],
   "source": [
    "for i in things:\n",
    "    print(i.capitalize())\n",
    "things "
   ]
  },
  {
   "cell_type": "markdown",
   "id": "0e0933b1",
   "metadata": {},
   "source": [
    "Q -6 Make a surprise list with the elements &quot;Groucho,&quot; &quot;Chico,&quot; and &quot;Harpo.&quot;"
   ]
  },
  {
   "cell_type": "code",
   "execution_count": 20,
   "id": "fcaa340c",
   "metadata": {},
   "outputs": [
    {
     "data": {
      "text/plain": [
       "['Guoucho', 'Chico', 'Harpo']"
      ]
     },
     "execution_count": 20,
     "metadata": {},
     "output_type": "execute_result"
    }
   ],
   "source": [
    "surprise_list = ['Guoucho','Chico','Harpo']\n",
    "surprise_list"
   ]
  },
  {
   "cell_type": "markdown",
   "id": "dd757dc3",
   "metadata": {},
   "source": [
    "Q -7 Lowercase the last elemnt of the surprise list, reverse it, and then capitalize it."
   ]
  },
  {
   "cell_type": "code",
   "execution_count": 23,
   "id": "d1db29ed",
   "metadata": {},
   "outputs": [
    {
     "data": {
      "text/plain": [
       "'harpo'"
      ]
     },
     "execution_count": 23,
     "metadata": {},
     "output_type": "execute_result"
    }
   ],
   "source": [
    "surprise_list[-1].lower()"
   ]
  },
  {
   "cell_type": "markdown",
   "id": "4ed87a89",
   "metadata": {},
   "source": [
    "Q -8 Make an English to French dictionary called e2f and print it. Here are ypour stater wprds: dog is chien, cat is chat,\n",
    "    and walrus is morse"
   ]
  },
  {
   "cell_type": "code",
   "execution_count": 27,
   "id": "a19b4c85",
   "metadata": {},
   "outputs": [],
   "source": [
    "e2f = {'dog':'chien','cat':'chat','walrus':'morse'}"
   ]
  },
  {
   "cell_type": "markdown",
   "id": "c3afa80a",
   "metadata": {},
   "source": [
    "Q -9 Write the French word for walrus in your three word dictionary e2f."
   ]
  },
  {
   "cell_type": "code",
   "execution_count": 28,
   "id": "381d0039",
   "metadata": {},
   "outputs": [
    {
     "data": {
      "text/plain": [
       "'morse'"
      ]
     },
     "execution_count": 28,
     "metadata": {},
     "output_type": "execute_result"
    }
   ],
   "source": [
    "e2f['walrus']"
   ]
  },
  {
   "cell_type": "markdown",
   "id": "49229d1f",
   "metadata": {},
   "source": [
    "Q -10 Mkae a French to english dictionary called f2e form e2f. Use the item method."
   ]
  },
  {
   "cell_type": "code",
   "execution_count": 29,
   "id": "cf19dbd6",
   "metadata": {},
   "outputs": [
    {
     "data": {
      "text/plain": [
       "{'chien': 'dog', 'chat': 'cat', 'morse': 'walrus'}"
      ]
     },
     "execution_count": 29,
     "metadata": {},
     "output_type": "execute_result"
    }
   ],
   "source": [
    "f2e = dict((key,value) for (value,key) in e2f.items())\n",
    "f2e"
   ]
  },
  {
   "cell_type": "markdown",
   "id": "55e28bbc",
   "metadata": {},
   "source": [
    "Q -11 Print the english  virson of the french word chien using f2e"
   ]
  },
  {
   "cell_type": "code",
   "execution_count": 30,
   "id": "0ca86ca5",
   "metadata": {},
   "outputs": [
    {
     "data": {
      "text/plain": [
       "'dog'"
      ]
     },
     "execution_count": 30,
     "metadata": {},
     "output_type": "execute_result"
    }
   ],
   "source": [
    "f2e['chien']"
   ]
  },
  {
   "cell_type": "markdown",
   "id": "170a5f02",
   "metadata": {},
   "source": [
    "Q -12 Make and print a set of english words form  the keys in e2f."
   ]
  },
  {
   "cell_type": "code",
   "execution_count": 32,
   "id": "72933eb9",
   "metadata": {},
   "outputs": [
    {
     "data": {
      "text/plain": [
       "dict_keys(['dog', 'cat', 'walrus'])"
      ]
     },
     "execution_count": 32,
     "metadata": {},
     "output_type": "execute_result"
    }
   ],
   "source": [
    "e2f.keys()"
   ]
  },
  {
   "cell_type": "markdown",
   "id": "04773da2",
   "metadata": {},
   "source": [
    "Q -13 Make a multilevel dictionary called life. Use these strings for the topmost keys: &#39;animals&#39;, &#39;plants&#39;,\n",
    "and &#39;other&#39;. Make the &#39;animals&#39; key refer to another dictionary with the keys &#39;cats&#39;, &#39;octopi&#39;, and\n",
    "&#39;emus&#39;. Make the &#39;cats&#39; key refer to a list of strings with the values &#39;Henri&#39;, &#39;Grumpy&#39;, and &#39;Lucy&#39;.\n",
    "Make all the other keys refer to empty dictionaries."
   ]
  },
  {
   "cell_type": "code",
   "execution_count": 35,
   "id": "ab7a026b",
   "metadata": {},
   "outputs": [
    {
     "data": {
      "text/plain": [
       "{'animals': {'cat': ['henri', 'Grumpy', 'Lucy'], 'octopi': '', 'emus': ''},\n",
       " 'panlts': '',\n",
       " 'other': ''}"
      ]
     },
     "execution_count": 35,
     "metadata": {},
     "output_type": "execute_result"
    }
   ],
   "source": [
    "life = {'animals':{'cat':['henri','Grumpy','Lucy'],'octopi':'','emus':''},'panlts':'','other':''}\n",
    "life"
   ]
  },
  {
   "cell_type": "markdown",
   "id": "29b97ac6",
   "metadata": {},
   "source": [
    "Q -14 Print the top-level Keys of life."
   ]
  },
  {
   "cell_type": "code",
   "execution_count": 36,
   "id": "8413d839",
   "metadata": {},
   "outputs": [
    {
     "data": {
      "text/plain": [
       "dict_keys(['animals', 'panlts', 'other'])"
      ]
     },
     "execution_count": 36,
     "metadata": {},
     "output_type": "execute_result"
    }
   ],
   "source": [
    "life.keys()"
   ]
  },
  {
   "cell_type": "markdown",
   "id": "10395872",
   "metadata": {},
   "source": [
    "Q -15 Print keys of life animals."
   ]
  },
  {
   "cell_type": "code",
   "execution_count": 37,
   "id": "687a52c4",
   "metadata": {},
   "outputs": [
    {
     "data": {
      "text/plain": [
       "dict_keys(['cat', 'octopi', 'emus'])"
      ]
     },
     "execution_count": 37,
     "metadata": {},
     "output_type": "execute_result"
    }
   ],
   "source": [
    "life['animals'].keys()"
   ]
  },
  {
   "cell_type": "markdown",
   "id": "a3bf5ce5",
   "metadata": {},
   "source": [
    "Q -16 Print the values of 'animals''cat'"
   ]
  },
  {
   "cell_type": "code",
   "execution_count": 38,
   "id": "9d7dc077",
   "metadata": {},
   "outputs": [
    {
     "data": {
      "text/plain": [
       "['henri', 'Grumpy', 'Lucy']"
      ]
     },
     "execution_count": 38,
     "metadata": {},
     "output_type": "execute_result"
    }
   ],
   "source": [
    "life['animals']['cat']"
   ]
  },
  {
   "cell_type": "code",
   "execution_count": null,
   "id": "db88e730",
   "metadata": {},
   "outputs": [],
   "source": []
  }
 ],
 "metadata": {
  "kernelspec": {
   "display_name": "Python 3 (ipykernel)",
   "language": "python",
   "name": "python3"
  },
  "language_info": {
   "codemirror_mode": {
    "name": "ipython",
    "version": 3
   },
   "file_extension": ".py",
   "mimetype": "text/x-python",
   "name": "python",
   "nbconvert_exporter": "python",
   "pygments_lexer": "ipython3",
   "version": "3.9.7"
  }
 },
 "nbformat": 4,
 "nbformat_minor": 5
}
